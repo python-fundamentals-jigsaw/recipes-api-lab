{
 "cells": [
  {
   "cell_type": "markdown",
   "metadata": {},
   "source": [
    "# Recipes API Lab"
   ]
  },
  {
   "cell_type": "markdown",
   "metadata": {},
   "source": [
    "### Introduction\n",
    "\n",
    "In this lesson, we'll practice working with Python scripts while using a recipes API."
   ]
  },
  {
   "cell_type": "markdown",
   "metadata": {},
   "source": [
    "### Getting Set Up\n",
    "\n",
    "Begin by setting up a folder to place our code called `src`.  Then, inside of that folder, create a file called `client.py`.  Outside of the `src` folder, create the `console.py` and begin by importing all of the code in the `client` module."
   ]
  },
  {
   "cell_type": "markdown",
   "metadata": {},
   "source": [
    "### Accessing the API\n",
    "\n",
    "For this lesson, we'll use the API from [The MealDB](https://www.themealdb.com/).  Here is a link to [the documentation](https://www.themealdb.com/api.php).\n",
    "\n",
    "We also have tests in the `tests` folder.  From the `recipes-api` folder, run Pytest to view the tests.  Write functions for the following:\n",
    "\n",
    "* `recipe_url` - Take a look at how to `Search a meal by name` in the documentation.  This method allows us to pass in the name of a recipe, and returns the appropriate url.  \n",
    "\n",
    "* `main_ingredient_url` - Look at how to filter by main ingredient in the documentation.  Write a function that takes in a main ingredient, and returns the appropriate url.\n",
    "\n",
    "* `request_by_recipe` - Takes in a meal name, and then makes a request to the api to return the recipe for the related meal.  (Remember to use the console to check your work).  And of course, run the tests.\n",
    "\n",
    "* `request_by_main_ingredient` - Takes in an ingredient name, and then makes a request to the api to return the a list of related recipes.\n",
    "\n",
    "* `id_url` - Takes in an id, and returns the url to search by id.\n",
    "\n"
   ]
  },
  {
   "cell_type": "markdown",
   "metadata": {},
   "source": [
    "### Coercing the Data\n",
    "\n",
    "Now let's create an `adapter.py` file inside of the `src` directory.  This will be in charge of coercing the data.  Be sure to import this in the console."
   ]
  },
  {
   "cell_type": "markdown",
   "metadata": {},
   "source": [
    "* `meal_recipe` - Write a function that takes the name of a meal and then hits the api to returns just the text of the corresponding recipe.  This should use the `request_by_recipe` function."
   ]
  },
  {
   "cell_type": "markdown",
   "metadata": {},
   "source": [
    "* `meal_names_and_ids` - Write a function that takes a list of sample meals and returns just the name and id of each meal.  Look at the tests to see how this works.  You can copy the `sample_meals` variable into the console to work with this."
   ]
  },
  {
   "cell_type": "markdown",
   "metadata": {},
   "source": [
    "### Adding Tests\n",
    "\n",
    "Next take a look at the `test_adapter_again.py` file.  Fill in the tests for two new functions: `meal_names` and `meal_ids`.  These two functions should work similarly to the `meal_names_and_ids`.  Write each test and then get the test to pass.\n",
    "\n",
    "* `meal_names` - For the `meal_names` function, test that the given the sample_meals it returns just a list of strings with each string being the meal name\n",
    "\n",
    "* `meal_ids` - For the `meal_ids` function, test that the given the `sample_meals` it returns just a list of strings with each string being the meal id."
   ]
  },
  {
   "cell_type": "markdown",
   "metadata": {},
   "source": [
    "### Back to the test_adapter"
   ]
  },
  {
   "cell_type": "markdown",
   "metadata": {},
   "source": [
    "* `meal_ingredients` - If we look at the response from the api, we'll see that each recipe can return up to twenty ingredients.  Write a function that takes in a single meal and returns a list of ingredients.  View the related test for details.\n",
    "> **Hint**: You can see in the test file, we placed a `sample_meal` at the top of the file.  It may make sense to place this in the `console.py` file so that you can interact with a sample meal.\n",
    "\n",
    "> **Other hint**: Begin by seeing if use to Python to create a list of `strIngredients` from 1 to 20, and then use this list to select the appropriate ingredients. \n",
    "```python\n",
    "['strIngredient1', 'strIngredient2', 'strIngredient3', 'strIngredient4', 'strIngredient5', 'strIngredient6', 'strIngredient7', 'strIngredient8', 'strIngredient9', 'strIngredient10', 'strIngredient11', 'strIngredient12', 'strIngredient13', 'strIngredient14', 'strIngredient15', 'strIngredient16', 'strIngredient17', 'strIngredient18', 'strIngredient19', 'strIngredient20']\n",
    "```"
   ]
  },
  {
   "cell_type": "markdown",
   "metadata": {},
   "source": [
    "* `ingredients_and_measurements` - Write a function that takes a single meal and returns a dictionary where the keys are the ingredients and the value is each corresponding measuremment needed."
   ]
  },
  {
   "cell_type": "markdown",
   "metadata": {},
   "source": [
    "Ok that's it.  Review how to work with different files and practice by adding to this codebase and your tests."
   ]
  }
 ],
 "metadata": {
  "kernelspec": {
   "display_name": "Python 3.9.10 64-bit",
   "language": "python",
   "name": "python3"
  },
  "language_info": {
   "name": "python",
   "version": "3.9.10"
  },
  "orig_nbformat": 4,
  "vscode": {
   "interpreter": {
    "hash": "aee8b7b246df8f9039afb4144a1f6fd8d2ca17a180786b69acc140d282b71a49"
   }
  }
 },
 "nbformat": 4,
 "nbformat_minor": 2
}
